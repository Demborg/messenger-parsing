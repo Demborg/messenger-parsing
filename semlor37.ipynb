{
 "cells": [
  {
   "cell_type": "markdown",
   "metadata": {},
   "source": [
    "# Semlor 37! legendary playlist"
   ]
  },
  {
   "cell_type": "code",
   "execution_count": 8,
   "metadata": {},
   "outputs": [],
   "source": [
    "import json\n",
    "import requests"
   ]
  },
  {
   "cell_type": "markdown",
   "metadata": {},
   "source": [
    "## Extract the spotify urls from the message dump"
   ]
  },
  {
   "cell_type": "code",
   "execution_count": 3,
   "metadata": {},
   "outputs": [
    {
     "name": "stdout",
     "output_type": "stream",
     "text": [
      "There where 103 mentions of songs in the chat\n"
     ]
    }
   ],
   "source": [
    "messages = json.load(open('data/message_1.json'))['messages']\n",
    "# print(messages[:10])\n",
    "links = []\n",
    "for m in messages:\n",
    "    for w in m.get('content', '').split():\n",
    "        if 'https://open.spotify.com/' in w:\n",
    "            links.append(w)\n",
    "print(\"There where {} mentions of songs in the chat\".format(len(links)))"
   ]
  },
  {
   "cell_type": "markdown",
   "metadata": {},
   "source": [
    "## Stolen access token from the \"party_mode\" .auth file"
   ]
  },
  {
   "cell_type": "code",
   "execution_count": 50,
   "metadata": {},
   "outputs": [],
   "source": [
    "auth = json.load(open('../party_mode/.auth'))\n",
    "headers = {'Authorization': 'Bearer {}'.format(auth['access_token'])}"
   ]
  },
  {
   "cell_type": "markdown",
   "metadata": {},
   "source": [
    "## Get user info"
   ]
  },
  {
   "cell_type": "code",
   "execution_count": 51,
   "metadata": {},
   "outputs": [
    {
     "name": "stdout",
     "output_type": "stream",
     "text": [
      "Welcome dr.lexa\n"
     ]
    }
   ],
   "source": [
    "resp = requests.get('https://api.spotify.com/v1/me', headers=headers)\n",
    "user_id = resp.json()['id']\n",
    "print('Welcome {}'.format(user_id))"
   ]
  },
  {
   "cell_type": "markdown",
   "metadata": {},
   "source": [
    "## Create the playlist"
   ]
  },
  {
   "cell_type": "code",
   "execution_count": 33,
   "metadata": {},
   "outputs": [],
   "source": [
    "resp = requests.post(\n",
    "    'https://api.spotify.com/v1/users/{}/playlists'.format(user_id),\n",
    "    headers=headers,\n",
    "    json=dict(\n",
    "        name='Semlor 37!',\n",
    "        public=True,\n",
    "    )\n",
    ")"
   ]
  },
  {
   "cell_type": "code",
   "execution_count": 37,
   "metadata": {},
   "outputs": [
    {
     "name": "stdout",
     "output_type": "stream",
     "text": [
      "new playlist id: 7DdH0Ogd8plJ0UEUc3KsfL\n"
     ]
    }
   ],
   "source": [
    "playlist_id = resp.json()['id']\n",
    "print('new playlist id: {}'.format(playlist_id))"
   ]
  },
  {
   "cell_type": "markdown",
   "metadata": {},
   "source": [
    "## Add the songs"
   ]
  },
  {
   "cell_type": "code",
   "execution_count": 48,
   "metadata": {},
   "outputs": [],
   "source": [
    "def add_songs(uris, playlist_id):\n",
    "    return requests.post(\n",
    "        'https://api.spotify.com/v1/playlists/{}/tracks'.format(playlist_id),\n",
    "        headers=headers,\n",
    "        json=uris\n",
    "    )\n",
    "    \n",
    "uris = []\n",
    "for link in links:\n",
    "    uri = \"spotify:track:{}\".format(\n",
    "        link.split('/')[-1].split('?')[0][0:22]\n",
    "    )\n",
    "    add_songs([uri], playlist_id)"
   ]
  }
 ],
 "metadata": {
  "kernelspec": {
   "display_name": "messenger",
   "language": "python",
   "name": "messenger"
  },
  "language_info": {
   "codemirror_mode": {
    "name": "ipython",
    "version": 3
   },
   "file_extension": ".py",
   "mimetype": "text/x-python",
   "name": "python",
   "nbconvert_exporter": "python",
   "pygments_lexer": "ipython3",
   "version": "3.6.8"
  }
 },
 "nbformat": 4,
 "nbformat_minor": 2
}
